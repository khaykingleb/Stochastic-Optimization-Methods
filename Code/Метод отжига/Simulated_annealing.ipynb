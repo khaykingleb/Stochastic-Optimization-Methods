{
 "cells": [
  {
   "cell_type": "markdown",
   "metadata": {},
   "source": [
    "# Метод имитации отжига"
   ]
  },
  {
   "cell_type": "markdown",
   "metadata": {},
   "source": [
    "![](pandas.jpg)"
   ]
  },
  {
   "cell_type": "code",
   "execution_count": 1,
   "metadata": {},
   "outputs": [],
   "source": [
    "import numpy as np \n",
    "import random as rnd"
   ]
  },
  {
   "cell_type": "code",
   "execution_count": 2,
   "metadata": {},
   "outputs": [],
   "source": [
    "def queens(N):\n",
    "    ver = np.arange(1, N + 1)\n",
    "    hor = np.arange(1, N + 1)\n",
    "    np.random.shuffle(hor)\n",
    "    return np.column_stack((ver, hor)) # получаем массив\n",
    "    # размерности (N, 2), отождествляющий расположение ферзей"
   ]
  },
  {
   "cell_type": "code",
   "execution_count": 3,
   "metadata": {},
   "outputs": [
    {
     "data": {
      "text/plain": [
       "array([[1, 4],\n",
       "       [2, 2],\n",
       "       [3, 3],\n",
       "       [4, 1],\n",
       "       [5, 5],\n",
       "       [6, 6],\n",
       "       [7, 7],\n",
       "       [8, 8]])"
      ]
     },
     "execution_count": 3,
     "metadata": {},
     "output_type": "execute_result"
    }
   ],
   "source": [
    "matrix = queens(8) \n",
    "matrix"
   ]
  },
  {
   "cell_type": "code",
   "execution_count": 4,
   "metadata": {},
   "outputs": [],
   "source": [
    "def F(Q, N): # Q означает расположение ферзей \n",
    "    cnt = 0\n",
    "    for i in range(N):\n",
    "        for j in range(i + 1, N):\n",
    "            if abs(Q[i, 0] - Q[j, 0]) == abs(Q[i, 1] - Q[j, 1]): \n",
    "                cnt += 1\n",
    "    return cnt * 2 # учитываем взаимные атаки"
   ]
  },
  {
   "cell_type": "code",
   "execution_count": 5,
   "metadata": {},
   "outputs": [
    {
     "data": {
      "text/plain": [
       "32"
      ]
     },
     "execution_count": 5,
     "metadata": {},
     "output_type": "execute_result"
    }
   ],
   "source": [
    "F(matrix , 8)"
   ]
  },
  {
   "cell_type": "code",
   "execution_count": 6,
   "metadata": {},
   "outputs": [],
   "source": [
    "def G(Q, N):\n",
    "    a = np.delete(matrix, 0, 1).reshape(N) # преобразуем в одномерный массив\n",
    "    while True:\n",
    "        i = np.random.choice(a)\n",
    "        j = np.random.choice(a)\n",
    "        if i != j:\n",
    "            break\n",
    "        \n",
    "    k = Q[i - 1, 1]\n",
    "    Q[i - 1, 1] = Q[j - 1, 1]\n",
    "    Q[j - 1, 1] = k\n",
    "    return Q # получаем новое расположение ферзей"
   ]
  },
  {
   "cell_type": "code",
   "execution_count": 7,
   "metadata": {},
   "outputs": [
    {
     "data": {
      "text/plain": [
       "array([[1, 4],\n",
       "       [2, 2],\n",
       "       [3, 3],\n",
       "       [4, 8],\n",
       "       [5, 5],\n",
       "       [6, 6],\n",
       "       [7, 7],\n",
       "       [8, 1]])"
      ]
     },
     "execution_count": 7,
     "metadata": {},
     "output_type": "execute_result"
    }
   ],
   "source": [
    "G(matrix , 8)"
   ]
  },
  {
   "cell_type": "code",
   "execution_count": 8,
   "metadata": {},
   "outputs": [],
   "source": [
    "def simulated_annealing(Q, N, T, alpha):\n",
    "    x_i = Q.copy() # сохраняем расположение ферзей для x_i \n",
    "    while True:\n",
    "        T = alpha * T # понижаем температуру\n",
    "        x_hat = G(Q, N) # массив Q теперь содержет расположение  ферзей с попракой на x_hat\n",
    "        delta = F(x_hat, N) - F(x_i, N)\n",
    "    \n",
    "        if F(x_hat , N) == 0: \n",
    "            return x_hat\n",
    "        elif delta < 0: \n",
    "            x_i = x_hat\n",
    "        else:\n",
    "            prob = np.exp(- delta / T) \n",
    "            if prob > rnd.random():\n",
    "                x_i = x_hat"
   ]
  },
  {
   "cell_type": "code",
   "execution_count": 9,
   "metadata": {},
   "outputs": [
    {
     "data": {
      "text/plain": [
       "array([[1, 7],\n",
       "       [2, 1],\n",
       "       [3, 3],\n",
       "       [4, 8],\n",
       "       [5, 6],\n",
       "       [6, 4],\n",
       "       [7, 2],\n",
       "       [8, 5]])"
      ]
     },
     "execution_count": 9,
     "metadata": {},
     "output_type": "execute_result"
    }
   ],
   "source": [
    "simulated_annealing(matrix, 8, 100, 0.95)"
   ]
  },
  {
   "cell_type": "code",
   "execution_count": null,
   "metadata": {},
   "outputs": [],
   "source": []
  }
 ],
 "metadata": {
  "kernelspec": {
   "display_name": "Python 3",
   "language": "python",
   "name": "python3"
  },
  "language_info": {
   "codemirror_mode": {
    "name": "ipython",
    "version": 3
   },
   "file_extension": ".py",
   "mimetype": "text/x-python",
   "name": "python",
   "nbconvert_exporter": "python",
   "pygments_lexer": "ipython3",
   "version": "3.7.4"
  }
 },
 "nbformat": 4,
 "nbformat_minor": 2
}
