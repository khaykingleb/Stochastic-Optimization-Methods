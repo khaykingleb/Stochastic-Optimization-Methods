{
 "cells": [
  {
   "cell_type": "markdown",
   "metadata": {},
   "source": [
    "# Метод имитации отжига: задача о N ферзях"
   ]
  },
  {
   "cell_type": "code",
   "execution_count": 1,
   "metadata": {},
   "outputs": [],
   "source": [
    "%matplotlib inline\n",
    "\n",
    "import numpy as np \n",
    "import matplotlib.pyplot as plt\n",
    "import seaborn as sns"
   ]
  },
  {
   "cell_type": "code",
   "execution_count": 21,
   "metadata": {},
   "outputs": [],
   "source": [
    "def queens(N):\n",
    "    np.random.seed(33412)\n",
    "    ver = np.arange(1, N + 1)\n",
    "    hor = np.arange(1, N + 1)\n",
    "    np.random.shuffle(hor)\n",
    "    return np.column_stack((ver, hor)) # получаем массив\n",
    "    # размерности (N, 2), отождествляющий расположение ферзей на доске N x N"
   ]
  },
  {
   "cell_type": "code",
   "execution_count": 23,
   "metadata": {},
   "outputs": [
    {
     "data": {
      "text/plain": [
       "array([[ 1,  9],\n",
       "       [ 2, 25],\n",
       "       [ 3,  2],\n",
       "       [ 4, 12],\n",
       "       [ 5, 16],\n",
       "       [ 6,  8],\n",
       "       [ 7, 14],\n",
       "       [ 8, 18],\n",
       "       [ 9,  1],\n",
       "       [10, 22],\n",
       "       [11,  5],\n",
       "       [12, 10],\n",
       "       [13, 23],\n",
       "       [14,  6],\n",
       "       [15, 21],\n",
       "       [16, 15],\n",
       "       [17, 20],\n",
       "       [18,  4],\n",
       "       [19, 13],\n",
       "       [20,  3],\n",
       "       [21,  7],\n",
       "       [22, 24],\n",
       "       [23, 11],\n",
       "       [24, 17],\n",
       "       [25, 19]])"
      ]
     },
     "execution_count": 23,
     "metadata": {},
     "output_type": "execute_result"
    }
   ],
   "source": [
    "matrix = queens(25)\n",
    "matrix"
   ]
  },
  {
   "cell_type": "code",
   "execution_count": 4,
   "metadata": {},
   "outputs": [],
   "source": [
    "def F(Q, N): # Q означает расположение ферзей\n",
    "    cnt = 0\n",
    "    for i in range(N):\n",
    "        for j in range(i + 1, N):\n",
    "            if abs(Q[i, 0] - Q[j, 0]) == abs(Q[i, 1] - Q[j, 1]): \n",
    "                cnt += 1\n",
    "    return cnt * 2 # учитываем взаимные атаки"
   ]
  },
  {
   "cell_type": "code",
   "execution_count": 5,
   "metadata": {},
   "outputs": [],
   "source": [
    "def G(Q, N):\n",
    "    pos = Q.copy()\n",
    "    while True:\n",
    "        i = np.random.randint(0, N - 1)\n",
    "        j = np.random.randint(0, N - 1)\n",
    "    \n",
    "        if i != j:\n",
    "            break\n",
    "            \n",
    "    pos[i, 1], pos[j, 1] = pos[j, 1], pos[i, 1]\n",
    "    return pos # получаем новое расположение ферзей"
   ]
  },
  {
   "cell_type": "code",
   "execution_count": 6,
   "metadata": {},
   "outputs": [
    {
     "data": {
      "text/plain": [
       "30"
      ]
     },
     "execution_count": 6,
     "metadata": {},
     "output_type": "execute_result"
    }
   ],
   "source": [
    "F(matrix, matrix.shape[0])"
   ]
  },
  {
   "cell_type": "code",
   "execution_count": 7,
   "metadata": {},
   "outputs": [],
   "source": [
    "def SA(Q, T, schedule):\n",
    "    N = np.shape(Q)[0] \n",
    "    x_hat = Q.copy() \n",
    "    while F(x_hat, N) != 0:\n",
    "        x_tilda = G(x_hat, N)\n",
    "        delta = F(x_tilda, N) - F(x_hat, N)\n",
    "        prob = np.exp(- delta / T)\n",
    "        \n",
    "        if (delta < 0) or (prob >= np.random.random()):\n",
    "            x_hat = x_tilda\n",
    "        \n",
    "        T *= schedule \n",
    "    \n",
    "    return x_hat"
   ]
  },
  {
   "cell_type": "markdown",
   "metadata": {},
   "source": [
    "Тогда одно из оптимальных решений выглядит следующим образом."
   ]
  },
  {
   "cell_type": "code",
   "execution_count": 8,
   "metadata": {},
   "outputs": [
    {
     "name": "stderr",
     "output_type": "stream",
     "text": [
      "/Users/khaykingleb/opt/anaconda3/lib/python3.7/site-packages/ipykernel_launcher.py:7: RuntimeWarning: overflow encountered in exp\n",
      "  import sys\n"
     ]
    },
    {
     "data": {
      "text/plain": [
       "array([[ 1,  5],\n",
       "       [ 2, 15],\n",
       "       [ 3, 20],\n",
       "       [ 4,  7],\n",
       "       [ 5, 14],\n",
       "       [ 6,  2],\n",
       "       [ 7, 17],\n",
       "       [ 8, 22],\n",
       "       [ 9,  3],\n",
       "       [10, 12],\n",
       "       [11,  9],\n",
       "       [12, 13],\n",
       "       [13, 25],\n",
       "       [14,  4],\n",
       "       [15,  1],\n",
       "       [16, 21],\n",
       "       [17, 16],\n",
       "       [18, 24],\n",
       "       [19, 10],\n",
       "       [20,  8],\n",
       "       [21,  6],\n",
       "       [22, 19],\n",
       "       [23, 23],\n",
       "       [24, 11],\n",
       "       [25, 18]])"
      ]
     },
     "execution_count": 8,
     "metadata": {},
     "output_type": "execute_result"
    }
   ],
   "source": [
    "SA(matrix, 100, 0.95)"
   ]
  },
  {
   "cell_type": "markdown",
   "metadata": {},
   "source": [
    "### Дополнительно"
   ]
  },
  {
   "cell_type": "code",
   "execution_count": 9,
   "metadata": {},
   "outputs": [
    {
     "name": "stderr",
     "output_type": "stream",
     "text": [
      "/Users/khaykingleb/opt/anaconda3/lib/python3.7/site-packages/ipykernel_launcher.py:7: RuntimeWarning: overflow encountered in exp\n",
      "  import sys\n"
     ]
    },
    {
     "name": "stdout",
     "output_type": "stream",
     "text": [
      "The slowest run took 14.16 times longer than the fastest. This could mean that an intermediate result is being cached.\n",
      "1.01 s ± 651 ms per loop (mean ± std. dev. of 7 runs, 1 loop each)\n"
     ]
    }
   ],
   "source": [
    "%timeit SA(matrix, 100, 0.95)"
   ]
  },
  {
   "cell_type": "markdown",
   "metadata": {},
   "source": [
    "__N = 8__"
   ]
  },
  {
   "cell_type": "markdown",
   "metadata": {},
   "source": [
    "Без изначальной перестановки"
   ]
  },
  {
   "cell_type": "code",
   "execution_count": 24,
   "metadata": {},
   "outputs": [],
   "source": [
    "def queens(N):\n",
    "    ver = np.arange(1, N + 1)\n",
    "    hor = np.arange(1, N + 1)\n",
    "    return np.column_stack((ver, hor)) # получаем массив\n",
    "    # размерности (N, 2), отождествляющий расположение ферзей на доске N x N"
   ]
  },
  {
   "cell_type": "code",
   "execution_count": 25,
   "metadata": {},
   "outputs": [
    {
     "data": {
      "text/plain": [
       "array([[1, 1],\n",
       "       [2, 2],\n",
       "       [3, 3],\n",
       "       [4, 4],\n",
       "       [5, 5],\n",
       "       [6, 6],\n",
       "       [7, 7],\n",
       "       [8, 8]])"
      ]
     },
     "execution_count": 25,
     "metadata": {},
     "output_type": "execute_result"
    }
   ],
   "source": [
    "matrix = queens(8)\n",
    "matrix"
   ]
  },
  {
   "cell_type": "code",
   "execution_count": 26,
   "metadata": {},
   "outputs": [
    {
     "data": {
      "text/plain": [
       "56"
      ]
     },
     "execution_count": 26,
     "metadata": {},
     "output_type": "execute_result"
    }
   ],
   "source": [
    "F(matrix, 8)"
   ]
  },
  {
   "cell_type": "code",
   "execution_count": 27,
   "metadata": {},
   "outputs": [],
   "source": [
    "def SA_adj(Q, T, schedule):\n",
    "    lst = list()              \n",
    "    N = np.shape(Q)[0] \n",
    "    x_hat = Q.copy() \n",
    "    lst.append(F(x_hat, N))\n",
    "    while F(x_hat, N) != 0:\n",
    "        x_tilda = G(x_hat, N)\n",
    "        delta = F(x_tilda, N) - F(x_hat, N)\n",
    "        prob = np.exp(- delta / T)\n",
    "        \n",
    "        if (delta < 0) or (prob >= np.random.random()):\n",
    "            x_hat = x_tilda\n",
    "            lst.append(F(x_hat, N))\n",
    "        \n",
    "        T *= schedule \n",
    "    \n",
    "    return lst"
   ]
  },
  {
   "cell_type": "code",
   "execution_count": 31,
   "metadata": {},
   "outputs": [],
   "source": [
    "a_matrix = matrix.copy()\n",
    "b_matrix = matrix.copy()\n",
    "c_matrix = matrix.copy()"
   ]
  },
  {
   "cell_type": "code",
   "execution_count": 29,
   "metadata": {},
   "outputs": [
    {
     "name": "stderr",
     "output_type": "stream",
     "text": [
      "/Users/khaykingleb/opt/anaconda3/lib/python3.7/site-packages/ipykernel_launcher.py:9: RuntimeWarning: overflow encountered in exp\n",
      "  if __name__ == '__main__':\n"
     ]
    }
   ],
   "source": [
    "a = SA_adj(a_matrix, 100, 0.9)"
   ]
  },
  {
   "cell_type": "code",
   "execution_count": 32,
   "metadata": {},
   "outputs": [
    {
     "name": "stderr",
     "output_type": "stream",
     "text": [
      "/Users/khaykingleb/opt/anaconda3/lib/python3.7/site-packages/ipykernel_launcher.py:9: RuntimeWarning: overflow encountered in exp\n",
      "  if __name__ == '__main__':\n"
     ]
    }
   ],
   "source": [
    "b = SA_adj(a_matrix, 100, 0.8)"
   ]
  },
  {
   "cell_type": "code",
   "execution_count": 33,
   "metadata": {},
   "outputs": [
    {
     "name": "stderr",
     "output_type": "stream",
     "text": [
      "/Users/khaykingleb/opt/anaconda3/lib/python3.7/site-packages/ipykernel_launcher.py:9: RuntimeWarning: overflow encountered in exp\n",
      "  if __name__ == '__main__':\n"
     ]
    }
   ],
   "source": [
    "c = SA_adj(a_matrix, 100, 0.7)"
   ]
  },
  {
   "cell_type": "code",
   "execution_count": 36,
   "metadata": {},
   "outputs": [
    {
     "data": {
      "image/png": "[encoded data removed]",
      "text/plain": [
       "<Figure size 720x576 with 1 Axes>"
      ]
     },
     "metadata": {},
     "output_type": "display_data"
    }
   ],
   "source": [
    "f = plt.figure(figsize=(10, 8))\n",
    "\n",
    "# Удаляем лишние границы\n",
    "ax = plt.subplot(111)  \n",
    "ax.spines[\"top\"].set_visible(False)  \n",
    "ax.spines[\"right\"].set_visible(False)\n",
    "ax.get_xaxis().tick_bottom()  \n",
    "ax.get_yaxis().tick_left() \n",
    "\n",
    "# Корректируем оси абсцисс и ординат\n",
    "plt.xticks(fontsize=14)  \n",
    "plt.yticks(fontsize=14) \n",
    "\n",
    "plt.xlabel(\"$k$\", fontsize=18)  \n",
    "plt.ylabel(\"$F(\\widehat{x}(k))$\", fontsize=18) \n",
    "\n",
    "plt.plot(a, label=\"alpha = 0.9\") \n",
    "plt.plot(b, label=\"alpha = 0.8\")\n",
    "plt.plot(c, label=\"alpha = 0.7\") \n",
    "plt.legend(frameon=False, fontsize=18) \n",
    "\n",
    "sns.set()\n",
    "sns.set_style(\"white\")"
   ]
  },
  {
   "cell_type": "code",
   "execution_count": 35,
   "metadata": {},
   "outputs": [],
   "source": [
    "f.savefig(\"queens8.png\", bbox_inches='tight', dpi=600)"
   ]
  },
  {
   "cell_type": "markdown",
   "metadata": {},
   "source": [
    "__N = 25__"
   ]
  },
  {
   "cell_type": "code",
   "execution_count": 9,
   "metadata": {},
   "outputs": [
    {
     "data": {
      "text/plain": [
       "array([[ 1, 16],\n",
       "       [ 2,  5],\n",
       "       [ 3,  3],\n",
       "       [ 4, 12],\n",
       "       [ 5,  2],\n",
       "       [ 6, 24],\n",
       "       [ 7,  9],\n",
       "       [ 8,  8],\n",
       "       [ 9, 13],\n",
       "       [10, 17],\n",
       "       [11,  4],\n",
       "       [12, 11],\n",
       "       [13,  1],\n",
       "       [14, 10],\n",
       "       [15, 20],\n",
       "       [16, 22],\n",
       "       [17,  6],\n",
       "       [18, 23],\n",
       "       [19, 14],\n",
       "       [20, 25],\n",
       "       [21,  7],\n",
       "       [22, 15],\n",
       "       [23, 19],\n",
       "       [24, 21],\n",
       "       [25, 18]])"
      ]
     },
     "execution_count": 9,
     "metadata": {},
     "output_type": "execute_result"
    }
   ],
   "source": [
    "matrix = queens(25)\n",
    "matrix"
   ]
  },
  {
   "cell_type": "code",
   "execution_count": 14,
   "metadata": {},
   "outputs": [],
   "source": [
    "d_matrix = matrix.copy()\n",
    "e_matrix = matrix.copy()\n",
    "z_matrix = matrix.copy()"
   ]
  },
  {
   "cell_type": "code",
   "execution_count": 16,
   "metadata": {},
   "outputs": [
    {
     "name": "stderr",
     "output_type": "stream",
     "text": [
      "/Users/khaykingleb/opt/anaconda3/lib/python3.7/site-packages/ipykernel_launcher.py:9: RuntimeWarning: overflow encountered in exp\n",
      "  if __name__ == '__main__':\n"
     ]
    }
   ],
   "source": [
    "d = SA_adj(d_matrix, 100, 0.9)"
   ]
  },
  {
   "cell_type": "code",
   "execution_count": 17,
   "metadata": {},
   "outputs": [
    {
     "name": "stderr",
     "output_type": "stream",
     "text": [
      "/Users/khaykingleb/opt/anaconda3/lib/python3.7/site-packages/ipykernel_launcher.py:9: RuntimeWarning: overflow encountered in exp\n",
      "  if __name__ == '__main__':\n"
     ]
    }
   ],
   "source": [
    "e = SA_adj(e_matrix, 100, 0.8)"
   ]
  },
  {
   "cell_type": "code",
   "execution_count": 18,
   "metadata": {},
   "outputs": [
    {
     "name": "stderr",
     "output_type": "stream",
     "text": [
      "/Users/khaykingleb/opt/anaconda3/lib/python3.7/site-packages/ipykernel_launcher.py:9: RuntimeWarning: overflow encountered in exp\n",
      "  if __name__ == '__main__':\n"
     ]
    }
   ],
   "source": [
    "z = SA_adj(z_matrix, 100, 0.7)"
   ]
  },
  {
   "cell_type": "code",
   "execution_count": 37,
   "metadata": {},
   "outputs": [
    {
     "data": {
      "image/png": "[encoded data removed]",
      "text/plain": [
       "<Figure size 720x576 with 1 Axes>"
      ]
     },
     "metadata": {},
     "output_type": "display_data"
    }
   ],
   "source": [
    "f = plt.figure(figsize=(10, 8))\n",
    "\n",
    "# Удаляем лишние границы\n",
    "ax = plt.subplot(111)  \n",
    "ax.spines[\"top\"].set_visible(False)  \n",
    "ax.spines[\"right\"].set_visible(False)\n",
    "ax.get_xaxis().tick_bottom()  \n",
    "ax.get_yaxis().tick_left() \n",
    "\n",
    "# Корректируем оси абсцисс и ординат\n",
    "plt.xticks(fontsize=14)  \n",
    "plt.yticks(fontsize=14) \n",
    "\n",
    "plt.xlabel(\"$k$\", fontsize=18)  \n",
    "plt.ylabel(\"$F(\\widehat{x}(k))$\", fontsize=18) \n",
    "\n",
    "plt.plot(d, label=\"alpha = 0.9\") \n",
    "plt.plot(e, label=\"alpha = 0.8\")\n",
    "plt.plot(z, label=\"alpha = 0.7\") \n",
    "plt.legend(frameon=False, fontsize=18) \n",
    "\n",
    "sns.set()\n",
    "sns.set_style(\"white\")"
   ]
  },
  {
   "cell_type": "code",
   "execution_count": 20,
   "metadata": {},
   "outputs": [],
   "source": [
    "f.savefig(\"queens25.png\", bbox_inches='tight', dpi=600)"
   ]
  }
 ],
 "metadata": {
  "kernelspec": {
   "display_name": "Python 3",
   "language": "python",
   "name": "python3"
  },
  "language_info": {
   "codemirror_mode": {
    "name": "ipython",
    "version": 3
   },
   "file_extension": ".py",
   "mimetype": "text/x-python",
   "name": "python",
   "nbconvert_exporter": "python",
   "pygments_lexer": "ipython3",
   "version": "3.7.4"
  }
 },
 "nbformat": 4,
 "nbformat_minor": 2
}
